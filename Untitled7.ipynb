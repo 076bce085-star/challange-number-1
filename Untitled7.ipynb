{
  "nbformat": 4,
  "nbformat_minor": 0,
  "metadata": {
    "colab": {
      "provenance": []
    },
    "kernelspec": {
      "name": "python3",
      "display_name": "Python 3"
    },
    "language_info": {
      "name": "python"
    }
  },
  "cells": [
    {
      "cell_type": "code",
      "execution_count": null,
      "metadata": {
        "id": "k8JCN85lAynj"
      },
      "outputs": [],
      "source": [
        "import math\n",
        "print(\"enter  the dischargs of 2,5,10,20,and 50 years events\")\n",
        "items=[]\n",
        "for I in range(0,5):\n",
        "   value=float(input(\" \"))\n",
        "   items.append(value)\n",
        "a=sum(items)\n",
        "av=a/5\n",
        "years =[2,5,10,20,50]\n",
        "def tcalc(t):\n",
        "    return -math.log(-math.log(1-(1/t)))\n",
        "sa=0\n",
        "for p in range(0,5):\n",
        "    sa=sa+tcalc(years[p])\n",
        "avg = sa/5\n",
        "da=0\n",
        "ba=0\n",
        "for m in range(0,5):\n",
        "    da=da+(tcalc(years[m])-avg)*(items[m]-av)\n",
        "    ba=ba+(tcalc(years[m])-avg)**2\n",
        "alpha=da/ba\n",
        "u=av-alpha*avg\n",
        "print(\"\\n Extrapolated Discharge for 200,500 and 1000 years floods are: \",round(u+alpha*tcalc(200),3) ,round(u+alpha*tcalc(500),3), round(u+alpha*tcalc(1000),3))"
      ]
    }
  ]
}